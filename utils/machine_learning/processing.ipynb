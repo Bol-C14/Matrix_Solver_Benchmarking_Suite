{
 "cells": [
  {
   "cell_type": "markdown",
   "metadata": {},
   "source": [
    "# K-Means Clustering on CSV Data\n",
    "This notebook demonstrates K-means clustering on data loaded from a CSV file, visualizes the clusters, and allows user input to classify new items."
   ]
  },
  {
   "cell_type": "code",
   "execution_count": null,
   "metadata": {},
   "outputs": [],
   "source": [
    "import numpy as np\n",
    "import pandas as pd\n",
    "import matplotlib.pyplot as plt"
   ]
  },
  {
   "cell_type": "markdown",
   "metadata": {},
   "source": [
    "## Load Dataset\n",
    "We load the dataset from a CSV file."
   ]
  },
  {
   "cell_type": "code",
   "execution_count": null,
   "metadata": {},
   "outputs": [],
   "source": [
    "input_file = 'synthetic_dataset.csv'\n",
    "data = pd.read_csv(input_file)\n",
    "\n",
    "# Extract features\n",
    "X = data[['Weight', 'Volume']].values"
   ]
  },
  {
   "cell_type": "markdown",
   "metadata": {},
   "source": [
    "## Initialize K-Means Parameters\n",
    "Set the number of clusters, maximum iterations, and tolerance for convergence."
   ]
  },
  {
   "cell_type": "code",
   "execution_count": null,
   "metadata": {},
   "outputs": [],
   "source": [
    "k = 2\n",
    "max_iterations = 100\n",
    "tolerance = 1e-4\n",
    "\n",
    "# Randomly initialize centroids\n",
    "centroids = X[np.random.choice(X.shape[0], k, replace=False)]"
   ]
  },
  {
   "cell_type": "markdown",
   "metadata": {},
   "source": [
    "## Define K-Means Functions\n",
    "Helper functions to calculate distances and perform the K-means clustering algorithm."
   ]
  },
  {
   "cell_type": "code",
   "execution_count": null,
   "metadata": {},
   "outputs": [],
   "source": [
    "def calculate_distances(points, centroids):\n",
    "    distances = np.zeros((points.shape[0], centroids.shape[0]))\n",
    "    for i, centroid in enumerate(centroids):\n",
    "        distances[:, i] = np.linalg.norm(points - centroid, axis=1)\n",
    "    return distances\n",
    "\n",
    "def k_means_clustering(data, centroids, max_iterations, tolerance):\n",
    "    for iteration in range(max_iterations):\n",
    "        # Calculate distances and assign clusters\n",
    "        distances = calculate_distances(data, centroids)\n",
    "        cluster_assignments = np.argmin(distances, axis=1)\n",
    "\n",
    "        # Update centroids\n",
    "        new_centroids = np.array([data[cluster_assignments == i].mean(axis=0) for i in range(k)])\n",
    "\n",
    "        # Check for convergence\n",
    "        if np.linalg.norm(new_centroids - centroids) < tolerance:\n",
    "            print(f\"Converged after {iteration + 1} iterations\")\n",
    "            break\n",
    "\n",
    "        centroids = new_centroids\n",
    "\n",
    "    return centroids, cluster_assignments"
   ]
  },
  {
   "cell_type": "markdown",
   "metadata": {},
   "source": [
    "## Run K-Means Clustering\n",
    "Perform the clustering on the dataset."
   ]
  },
  {
   "cell_type": "code",
   "execution_count": null,
   "metadata": {},
   "outputs": [],
   "source": [
    "final_centroids, cluster_assignments = k_means_clustering(X, centroids, max_iterations, tolerance)"
   ]
  },
  {
   "cell_type": "markdown",
   "metadata": {},
   "source": [
    "## Visualize Clusters\n",
    "Plot the clusters and centroids."
   ]
  },
  {
   "cell_type": "code",
   "execution_count": null,
   "metadata": {},
   "outputs": [],
   "source": [
    "plt.figure(figsize=(8, 6))\n",
    "for i in range(k):\n",
    "    cluster_data = X[cluster_assignments == i]\n",
    "    plt.scatter(cluster_data[:, 0], cluster_data[:, 1], label=f'Cluster {i + 1}')\n",
    "plt.scatter(final_centroids[:, 0], final_centroids[:, 1], color='black', marker='x', s=100, label='Centroids')\n",
    "plt.title('K-Means Clustering on Weight vs Volume Data')\n",
    "plt.xlabel('Weight')\n",
    "plt.ylabel('Volume')\n",
    "plt.legend()\n",
    "plt.grid()\n",
    "plt.show()"
   ]
  },
  {
   "cell_type": "markdown",
   "metadata": {},
   "source": [
    "## Classify a New Item\n",
    "Prompt the user to input weight and volume, and classify the item as defective or non-defective."
   ]
  },
  {
   "cell_type": "code",
   "execution_count": null,
   "metadata": {},
   "outputs": [],
   "source": [
    "print(\"Enter the weight and volume of the new item to classify:\")\n",
    "new_weight = float(input(\"Weight: \"))\n",
    "new_volume = float(input(\"Volume: \"))\n",
    "new_item = np.array([[new_weight, new_volume]])\n",
    "\n",
    "# Predict the cluster for the new item\n",
    "new_item_distances = calculate_distances(new_item, final_centroids)\n",
    "new_item_cluster = np.argmin(new_item_distances)\n",
    "\n",
    "# Output the classification result\n",
    "if new_item_cluster == 0:\n",
    "    print(\"The new item is classified as: Defective\")\n",
    "else:\n",
    "    print(\"The new item is classified as: Non-defective\")"
   ]
  }
 ],
 "metadata": {
  "kernelspec": {
   "display_name": "Python 3",
   "language": "python",
   "name": "python3"
  },
  "language_info": {
   "codemirror_mode": {
    "name": "ipython",
    "version": 3
   },
   "file_extension": ".py",
   "mimetype": "text/x-python",
   "name": "python",
   "nbconvert_exporter": "python",
   "pygments_lexer": "ipython3",
   "version": "3.8"
  }
 },
 "nbformat": 4,
 "nbformat_minor": 5
}