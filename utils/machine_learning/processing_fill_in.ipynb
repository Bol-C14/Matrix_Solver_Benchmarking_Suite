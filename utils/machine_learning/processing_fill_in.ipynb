{
 "cells": [
  {
   "cell_type": "markdown",
   "metadata": {},
   "source": [
    "# K-Means Clustering: Fill-in Version\n",
    "This notebook guides you through implementing K-means clustering step-by-step. Follow the prompts and hints to complete the missing parts."
   ]
  },
  {
   "cell_type": "markdown",
   "metadata": {},
   "source": [
    "## Step 1: Import Libraries\n",
    "We need libraries for numerical operations, data manipulation, and plotting."
   ]
  },
  {
   "cell_type": "code",
   "execution_count": null,
   "metadata": {},
   "outputs": [],
   "source": [
    "# TODO: Import the required libraries\n",
    "# HINT: Use numpy for numerical operations, pandas for data handling, and matplotlib for visualization.\n",
    "import ____ as np\n",
    "import ____ as pd\n",
    "import ____ as plt"
   ]
  },
  {
   "cell_type": "markdown",
   "metadata": {},
   "source": [
    "## Step 2: Load Dataset\n",
    "Load the dataset from a CSV file and extract the features for clustering."
   ]
  },
  {
   "cell_type": "code",
   "execution_count": null,
   "metadata": {},
   "outputs": [],
   "source": [
    "# TODO: Load the dataset and extract features\n",
    "# HINT: Use pandas to read the file and select relevant columns.\n",
    "input_file = 'synthetic_dataset.csv'\n",
    "data = pd.____(input_file)\n",
    "\n",
    "# Extract features\n",
    "X = data[['____', '____']].values"
   ]
  },
  {
   "cell_type": "markdown",
   "metadata": {},
   "source": [
    "## Step 3: Initialize K-Means Parameters\n",
    "Define the number of clusters, maximum iterations, and tolerance for convergence."
   ]
  },
  {
   "cell_type": "code",
   "execution_count": null,
   "metadata": {},
   "outputs": [],
   "source": [
    "# TODO: Set K-Means parameters\n",
    "# HINT: Set k to the number of clusters (e.g., 2), and define reasonable values for max_iterations and tolerance.\n",
    "k = ____\n",
    "max_iterations = ____\n",
    "tolerance = ____\n",
    "\n",
    "# Randomly initialize centroids\n",
    "centroids = X[np.random.choice(X.shape[0], k, replace=False)]"
   ]
  },
  {
   "cell_type": "markdown",
   "metadata": {},
   "source": [
    "## Step 4: Define K-Means Functions\n",
    "Write helper functions to calculate distances and implement the K-means clustering algorithm."
   ]
  },
  {
   "cell_type": "code",
   "execution_count": null,
   "metadata": {},
   "outputs": [],
   "source": [
    "# TODO: Define a function to calculate distances\n",
    "# HINT: Calculate the Euclidean distance between points and centroids.\n",
    "def calculate_distances(points, centroids):\n",
    "    distances = np.zeros((points.shape[0], centroids.shape[0]))\n",
    "    for i, centroid in enumerate(centroids):\n",
    "        distances[:, i] = np.linalg.____(points - centroid, axis=1)\n",
    "    return distances\n",
    "\n",
    "# TODO: Define the K-means clustering function\n",
    "# HINT: Use the calculate_distances function and iteratively update centroids.\n",
    "def k_means_clustering(data, centroids, max_iterations, tolerance):\n",
    "    for iteration in range(max_iterations):\n",
    "        # Calculate distances and assign clusters\n",
    "        distances = calculate_distances(data, centroids)\n",
    "        cluster_assignments = np.argmin(distances, axis=1)\n",
    "\n",
    "        # Update centroids\n",
    "        new_centroids = np.array([data[cluster_assignments == i].____(axis=0) for i in range(k)])\n",
    "\n",
    "        # Check for convergence\n",
    "        if np.linalg.norm(new_centroids - centroids) < tolerance:\n",
    "            print(f\"Converged after {iteration + 1} iterations\")\n",
    "            break\n",
    "\n",
    "        centroids = new_centroids\n",
    "\n",
    "    return centroids, cluster_assignments"
   ]
  },
  {
   "cell_type": "markdown",
   "metadata": {},
   "source": [
    "## Step 5: Run K-Means Clustering\n",
    "Use the functions to perform clustering on the dataset."
   ]
  },
  {
   "cell_type": "code",
   "execution_count": null,
   "metadata": {},
   "outputs": [],
   "source": [
    "# TODO: Run the K-means algorithm\n",
    "# HINT: Call k_means_clustering with appropriate arguments.\n",
    "final_centroids, cluster_assignments = k_means_clustering(X, centroids, ____, ____)"
   ]
  },
  {
   "cell_type": "markdown",
   "metadata": {},
   "source": [
    "## Step 6: Visualize Clusters\n",
    "Plot the clusters and centroids."
   ]
  },
  {
   "cell_type": "code",
   "execution_count": null,
   "metadata": {},
   "outputs": [],
   "source": [
    "# TODO: Visualize the clusters\n",
    "# HINT: Use matplotlib to scatter plot the data and centroids.\n",
    "plt.figure(figsize=(8, 6))\n",
    "for i in range(k):\n",
    "    cluster_data = X[cluster_assignments == i]\n",
    "    plt.scatter(cluster_data[:, 0], cluster_data[:, 1], label=f'Cluster {i + 1}')\n",
    "plt.scatter(final_centroids[:, 0], final_centroids[:, 1], color='black', marker='x', s=100, label='Centroids')\n",
    "plt.title('K-Means Clustering')\n",
    "plt.xlabel('Weight')\n",
    "plt.ylabel('Volume')\n",
    "plt.legend()\n",
    "plt.grid()\n",
    "plt.show()"
   ]
  },
  {
   "cell_type": "markdown",
   "metadata": {},
   "source": [
    "## Step 7: Classify a New Item\n",
    "Prompt the user to input weight and volume, and classify the item as defective or non-defective."
   ]
  },
  {
   "cell_type": "code",
   "execution_count": null,
   "metadata": {},
   "outputs": [],
   "source": [
    "# TODO: Prompt the user for a new item's features and classify it\n",
    "# HINT: Use calculate_distances to find the nearest cluster.\n",
    "print(\"Enter the weight and volume of the new item to classify:\")\n",
    "new_weight = float(input(\"Weight: \"))\n",
    "new_volume = float(input(\"Volume: \"))\n",
    "new_item = np.array([[new_weight, new_volume]])\n",
    "\n",
    "# Predict the cluster for the new item\n",
    "new_item_distances = calculate_distances(new_item, final_centroids)\n",
    "new_item_cluster = np.argmin(new_item_distances)\n",
    "\n",
    "# Output the classification result\n",
    "if new_item_cluster == 0:\n",
    "    print(\"The new item is classified as: Defective\")\n",
    "else:\n",
    "    print(\"The new item is classified as: Non-defective\")"
   ]
  }
 ],
 "metadata": {
  "kernelspec": {
   "display_name": "Python 3",
   "language": "python",
   "name": "python3"
  },
  "language_info": {
   "codemirror_mode": {
    "name": "ipython",
    "version": 3
   },
   "file_extension": ".py",
   "mimetype": "text/x-python",
   "name": "python",
   "nbconvert_exporter": "python",
   "pygments_lexer": "ipython3",
   "version": "3.8"
  }
 },
 "nbformat": 4,
 "nbformat_minor": 5
}