{
 "cells": [
  {
   "cell_type": "code",
   "execution_count": 1,
   "metadata": {},
   "outputs": [],
   "source": [
    "import pandas as pd\n",
    "import numpy as np\n",
    "import matplotlib.pyplot as plt"
   ]
  },
  {
   "cell_type": "code",
   "execution_count": 2,
   "metadata": {},
   "outputs": [],
   "source": [
    "data = []"
   ]
  },
  {
   "cell_type": "code",
   "execution_count": 3,
   "metadata": {},
   "outputs": [],
   "source": [
    "data.append(pd.read_csv('results_scircuit_c6a.csv'))\n",
    "data.append(pd.read_csv('results_scircuit_c6i.csv'))\n",
    "data.append(pd.read_csv('results_scircuit_r6i.csv'))\n",
    "data.append(pd.read_csv('results_scircuit_c6g.csv'))\n",
    "data.append(pd.read_csv('results_scircuit_c7g.csv'))\n",
    "data.append(pd.read_csv('results_scircuit_corei9.csv'))\n",
    "data.append(pd.read_csv('results_scircuit_gold6128.csv'))\n",
    "data.append(pd.read_csv('results_scircuit_corei7.csv'))\n",
    "data.append(pd.read_csv('results_scircuit_m5zn.csv'))\n",
    "data.append(pd.read_csv('results_scircuit_x2iezn.csv'))"
   ]
  },
  {
   "cell_type": "code",
   "execution_count": 4,
   "metadata": {},
   "outputs": [],
   "source": [
    "labels = ['C6A', 'C6I', 'R6I', 'C6G', 'C7G', 'CoreI9', 'Gold6128', 'CoreI7', 'M5ZN', 'X2IEZN']"
   ]
  },
  {
   "cell_type": "code",
   "execution_count": 5,
   "metadata": {},
   "outputs": [
    {
     "name": "stdout",
     "output_type": "stream",
     "text": [
      "[172440.0, 203752.0, 199137.0, 161882.0, 103287.0, 179167.0, 225193.0, 136932.0, 231657.0, 158992.0]\n"
     ]
    }
   ],
   "source": [
    "value = []\n",
    "for i in range(len(data)):\n",
    "    value.append(data[i]['time1'][33])\n",
    "\n",
    "print(value)"
   ]
  },
  {
   "cell_type": "code",
   "execution_count": 6,
   "metadata": {},
   "outputs": [
    {
     "name": "stdout",
     "output_type": "stream",
     "text": [
      "['M5ZN' 'Gold6128' 'C6I' 'R6I' 'CoreI9' 'C6A' 'C6G' 'X2IEZN' 'CoreI7'\n",
      " 'C7G']\n"
     ]
    }
   ],
   "source": [
    "valp = np.array(value)\n",
    "labp = np.array(labels)\n",
    "inds = valp.argsort()[::-1]\n",
    "out = labp[inds]\n",
    "print(out)\n"
   ]
  },
  {
   "cell_type": "code",
   "execution_count": 7,
   "metadata": {},
   "outputs": [
    {
     "data": {
      "text/plain": [
       "<BarContainer object of 10 artists>"
      ]
     },
     "execution_count": 7,
     "metadata": {},
     "output_type": "execute_result"
    },
    {
     "data": {
      "image/png": "[encoded data removed]",
      "text/plain": [
       "<Figure size 432x288 with 1 Axes>"
      ]
     },
     "metadata": {
      "needs_background": "light"
     },
     "output_type": "display_data"
    }
   ],
   "source": [
    "plt.barh(labp[inds], valp[inds])"
   ]
  }
 ],
 "metadata": {
  "interpreter": {
   "hash": "31f2aee4e71d21fbe5cf8b01ff0e069b9275f58929596ceb00d14d90e3e16cd6"
  },
  "kernelspec": {
   "display_name": "Python 3.8.10 64-bit",
   "language": "python",
   "name": "python3"
  },
  "language_info": {
   "codemirror_mode": {
    "name": "ipython",
    "version": 3
   },
   "file_extension": ".py",
   "mimetype": "text/x-python",
   "name": "python",
   "nbconvert_exporter": "python",
   "pygments_lexer": "ipython3",
   "version": "3.8.10"
  },
  "orig_nbformat": 4
 },
 "nbformat": 4,
 "nbformat_minor": 2
}
