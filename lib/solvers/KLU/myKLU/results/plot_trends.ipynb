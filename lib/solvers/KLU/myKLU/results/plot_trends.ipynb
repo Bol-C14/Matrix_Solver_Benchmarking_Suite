{
 "cells": [
  {
   "cell_type": "code",
   "execution_count": null,
   "metadata": {},
   "outputs": [],
   "source": [
    "import pandas as pd\n",
    "import numpy as np\n",
    "import matplotlib.pyplot as plt"
   ]
  },
  {
   "cell_type": "code",
   "execution_count": null,
   "metadata": {},
   "outputs": [],
   "source": [
    "input_threads = 6 # 2^p\n",
    "input_nrhs = 7  # 2^p\n",
    "\n",
    "# From Scale runs on c7g\n",
    "#data = pd.read_csv('./c7g/results_scale_circuit_2.csv')\n",
    "#data = pd.read_csv('./c7g/results_scale_circuit_4.csv')\n",
    "data = pd.read_csv('./c7g/results_scale_scircuit.csv')\n",
    "#data = pd.read_csv('./c7g/results_scale_ASIC_680ks.csv')\n",
    "\n",
    "print(data.head())"
   ]
  },
  {
   "cell_type": "code",
   "execution_count": null,
   "metadata": {},
   "outputs": [],
   "source": [
    "nrhs = np.arange(0, input_nrhs+1)\n",
    "nrhs = np.power(2, nrhs).tolist()\n",
    "\n",
    "threads = np.arange(0, input_threads+1)\n",
    "threads = np.power(2, threads).tolist()\n",
    "\n",
    "grid = np.zeros((len(threads),len(nrhs)))\n",
    "grid[0,0]=1\n",
    "\n",
    "print(threads, nrhs)"
   ]
  },
  {
   "cell_type": "code",
   "execution_count": null,
   "metadata": {},
   "outputs": [],
   "source": [
    "for index, row in data.iterrows():\n",
    "    threads_i = row['threads']\n",
    "    nrhs_i = row['nrhs']\n",
    "    time_i = row['time2']\n",
    "    \n",
    "    index_threads = threads.index(threads_i)\n",
    "    index_nrhs = nrhs.index(nrhs_i)\n",
    "    \n",
    "    #print(index_threads, index_nrhs)\n",
    "\n",
    "    time_per_solve = time_i / (threads_i * nrhs_i)\n",
    "    #cost_per_solve = time_per_solve * threads_i\n",
    "    \n",
    "    #grid[index_threads, index_nrhs] = ref / (time_per_solve)\n",
    "    grid[index_threads, index_nrhs] = (time_per_solve)\n",
    "    #grid[index_threads, index_nrhs] =  ref*ref/(cost_per_solve*time_per_solve)\n",
    "\n",
    "\n",
    "print(grid)"
   ]
  },
  {
   "cell_type": "code",
   "execution_count": null,
   "metadata": {},
   "outputs": [],
   "source": [
    "a = np.array(grid)\n",
    "print(a[:,2])\n",
    "print(a[2,:])"
   ]
  },
  {
   "cell_type": "code",
   "execution_count": null,
   "metadata": {},
   "outputs": [],
   "source": [
    "#plt.style.use(['ipynb','colors5'])\n",
    "fig = plt.figure(figsize=(5,4), dpi=150)\n",
    "ax = fig.add_subplot(111)\n",
    "\n",
    "import matplotlib.ticker as ticker\n",
    "\n",
    "ax.plot(threads, a)\n",
    "#ax.set_xticks(threads)\n",
    "ax.set_xscale('log', base=2)\n",
    "ax.set_yscale('log', base=2)\n",
    "\n",
    "formatter = ticker.ScalarFormatter()\n",
    "ax.xaxis.set_major_formatter(formatter)\n",
    "ax.yaxis.set_major_formatter(formatter)\n",
    "\n",
    "ax.legend(['nrhs=1', 'nrhs=2', 'nrhs=4', 'nrhs=8', 'nrhs=16', 'nrhs=32', 'nrhs=64', 'nrhs=128'])\n",
    "\n",
    "ax.set_xlabel('Number of threads')\n",
    "ax.set_ylabel('Time per solve (μs)')\n",
    "\n",
    "rr = np.array(threads)\n",
    "ax.plot(rr, 1400/rr, '--')\n",
    "\n",
    "fig.savefig('./trends_threads.svg')"
   ]
  },
  {
   "cell_type": "code",
   "execution_count": null,
   "metadata": {},
   "outputs": [],
   "source": [
    "fig = plt.figure(figsize=(5,4), dpi=150)\n",
    "ax = fig.add_subplot(111)\n",
    "\n",
    "import matplotlib.ticker as ticker\n",
    "\n",
    "ax.plot(nrhs, np.transpose(a))\n",
    "#ax.set_xticks(threads)\n",
    "ax.set_xscale('log', base=2)\n",
    "ax.set_yscale('log', base=2)\n",
    "\n",
    "formatter = ticker.ScalarFormatter()\n",
    "ax.xaxis.set_major_formatter(formatter)\n",
    "ax.yaxis.set_major_formatter(formatter)\n",
    "\n",
    "ax.legend(['threads=1', 'threads=2', 'threads=4', 'threads=8', 'threads=16', 'threads=32', 'threads=64'])\n",
    "\n",
    "ax.set_xlabel('Number of rhs')\n",
    "ax.set_ylabel('Time per solve (μs)')\n",
    "\n",
    "fig.savefig('./trends_nrhs.svg')\n"
   ]
  }
 ],
 "metadata": {
  "kernelspec": {
   "display_name": "Python 3.10.4 64-bit",
   "language": "python",
   "name": "python3"
  },
  "language_info": {
   "codemirror_mode": {
    "name": "ipython",
    "version": 3
   },
   "file_extension": ".py",
   "mimetype": "text/x-python",
   "name": "python",
   "nbconvert_exporter": "python",
   "pygments_lexer": "ipython3",
   "version": "3.10.4"
  },
  "orig_nbformat": 4,
  "vscode": {
   "interpreter": {
    "hash": "31f2aee4e71d21fbe5cf8b01ff0e069b9275f58929596ceb00d14d90e3e16cd6"
   }
  }
 },
 "nbformat": 4,
 "nbformat_minor": 2
}
