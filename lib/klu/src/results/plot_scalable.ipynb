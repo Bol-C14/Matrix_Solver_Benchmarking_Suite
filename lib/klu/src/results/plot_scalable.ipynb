{
 "cells": [
  {
   "cell_type": "code",
   "execution_count": null,
   "metadata": {},
   "outputs": [],
   "source": [
    "import pandas as pd\n",
    "import numpy as np\n",
    "import matplotlib.pyplot as plt"
   ]
  },
  {
   "cell_type": "code",
   "execution_count": null,
   "metadata": {},
   "outputs": [],
   "source": [
    "input_threads = 6 # 2^p\n",
    "input_nrhs = 7  # 2^p\n",
    "\n",
    "\n",
    "#data = pd.read_csv('results_scale_c7g.csv')\n",
    "#data = pd.read_csv('results_scale_r6g.csv')\n",
    "#data = pd.read_csv('results_scale_c6i.csv')\n",
    "\n",
    "# From Scale runs on c7g\n",
    "#data = pd.read_csv('./c7g/results_scale_circuit_2.csv')\n",
    "#data = pd.read_csv('./c7g/results_scale_circuit_4.csv')\n",
    "data = pd.read_csv('./c7g/results_scale_scircuit.csv')\n",
    "#data = pd.read_csv('./c7g/results_scale_ASIC_680ks.csv')\n",
    "\n",
    "# From Scale runs on c6g\n",
    "#data = pd.read_csv('./c6g/results_scale_circuit_2.csv')\n",
    "#data = pd.read_csv('./c6g/results_scale_circuit_4.csv')\n",
    "#data = pd.read_csv('./c6g/results_scale_scircuit.csv')\n",
    "#data = pd.read_csv('./c6g/results_scale_ASIC_680ks.csv')\n",
    "\n",
    "# From Scale runs on c6a\n",
    "#data = pd.read_csv('./c6a/results_scale_circuit_2.csv')\n",
    "#data = pd.read_csv('./c6a/results_scale_circuit_4.csv')\n",
    "#data = pd.read_csv('./c6a/results_scale_scircuit.csv')\n",
    "#data = pd.read_csv('./c6a/results_scale_ASIC_680ks.csv')\n",
    "\n",
    "# From Scale runs on c6i\n",
    "#data = pd.read_csv('./c6i/results_scale_circuit_2.csv')\n",
    "#data = pd.read_csv('./c6i/results_scale_circuit_4.csv')\n",
    "#data = pd.read_csv('./c6i/results_scale_scircuit.csv')\n",
    "#data = pd.read_csv('./c6i/results_scale_ASIC_680ks.csv')\n",
    "\n",
    "\n",
    "print(data.head())"
   ]
  },
  {
   "cell_type": "code",
   "execution_count": null,
   "metadata": {},
   "outputs": [],
   "source": [
    "#nrhs = [1,2,4,8,16,32,64,128]\n",
    "nrhs = np.arange(0, input_nrhs+1)\n",
    "nrhs = np.power(2, nrhs).tolist()\n",
    "\n",
    "threads = np.arange(0, input_threads+1)\n",
    "threads = np.power(2, threads).tolist()\n",
    "\n",
    "grid = np.zeros((len(threads),len(nrhs)))\n",
    "grid[0,0]=1\n",
    "\n",
    "print(threads, nrhs)"
   ]
  },
  {
   "cell_type": "code",
   "execution_count": null,
   "metadata": {},
   "outputs": [],
   "source": [
    "#c6i\n",
    "#ref = 168.205 #circuit_2\n",
    "#ref = 2147.41 #circuit_4\n",
    "#ref = 12092.9 #scircuit\n",
    "#ref = 24486.0 #ASIC_680ks\n",
    "\n",
    "#ref = 12092.9 #scircuit c6i\n",
    "#ref = 18981.7 #scircuit c6a\n",
    "#ref = 13160.8 #scircuit c6g\n",
    "ref = 8881.2 #scircuit c7g\n",
    "\n",
    "#ref = data['time1'][0]\n",
    "\n",
    "for index, row in data.iterrows():\n",
    "    threads_i = row['threads']\n",
    "    nrhs_i = row['nrhs']\n",
    "    time_solve_i = row['time2']\n",
    "    \n",
    "    index_threads = threads.index(threads_i)\n",
    "    index_nrhs = nrhs.index(nrhs_i)\n",
    "    \n",
    "    #print(index_threads, index_nrhs)\n",
    "\n",
    "    time_per_solve = time_solve_i / (threads_i * nrhs_i)\n",
    "    \n",
    "    grid[index_threads, index_nrhs] = ref / (time_per_solve)\n",
    "    #grid[index_threads, index_nrhs] = (time_per_solve)\n",
    "\n",
    "\n",
    "\n",
    "print(grid)"
   ]
  },
  {
   "cell_type": "code",
   "execution_count": null,
   "metadata": {},
   "outputs": [],
   "source": [
    "list(map(str, nrhs))"
   ]
  },
  {
   "cell_type": "code",
   "execution_count": null,
   "metadata": {},
   "outputs": [],
   "source": [
    "plt.style.use(['ipynb','cmap-viridis'])\n",
    "fig = plt.figure(figsize=(6,6), dpi=150)\n",
    "ax = fig.add_subplot(111)\n",
    "im = ax.imshow(grid,interpolation='nearest')\n",
    "ax.set_xticks(np.arange(0,len(nrhs)))\n",
    "ax.set_xticklabels(nrhs)\n",
    "\n",
    "ax.set_yticks(np.arange(0,len(threads)))\n",
    "ax.set_yticklabels(threads)\n",
    "#fig.colorbar(im)\n",
    "ax.invert_yaxis()\n",
    "for (j,i),label in np.ndenumerate(grid):\n",
    "    ax.text(i,j,round(label,1),ha='center',va='center')\n",
    "\n",
    "fig.savefig('scalable_grid.svg', format='svg')"
   ]
  }
 ],
 "metadata": {
  "interpreter": {
   "hash": "31f2aee4e71d21fbe5cf8b01ff0e069b9275f58929596ceb00d14d90e3e16cd6"
  },
  "kernelspec": {
   "display_name": "Python 3.8.10 64-bit",
   "language": "python",
   "name": "python3"
  },
  "language_info": {
   "codemirror_mode": {
    "name": "ipython",
    "version": 3
   },
   "file_extension": ".py",
   "mimetype": "text/x-python",
   "name": "python",
   "nbconvert_exporter": "python",
   "pygments_lexer": "ipython3",
   "version": "3.10.4"
  },
  "orig_nbformat": 4
 },
 "nbformat": 4,
 "nbformat_minor": 2
}
