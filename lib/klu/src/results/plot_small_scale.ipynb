{
 "cells": [
  {
   "cell_type": "code",
   "execution_count": null,
   "metadata": {},
   "outputs": [],
   "source": [
    "import pandas as pd\n",
    "import numpy as np\n",
    "import matplotlib.pyplot as plt"
   ]
  },
  {
   "cell_type": "code",
   "execution_count": null,
   "metadata": {},
   "outputs": [],
   "source": [
    "input_threads = 9 # max_thread\n",
    "input_nrhs = 7  # 2^p\n",
    "\n",
    "#data = pd.read_csv('results_circuit2_corei7.csv')\n",
    "data = pd.read_csv('results_scircuit_corei7.csv')\n",
    "\n",
    "\n",
    "\n",
    "\n",
    "print(data.head())"
   ]
  },
  {
   "cell_type": "code",
   "execution_count": null,
   "metadata": {},
   "outputs": [],
   "source": [
    "#nrhs = [1,2,4,8,16,32,64,128]\n",
    "nrhs = np.arange(0, input_nrhs+1)\n",
    "nrhs = np.power(2, nrhs).tolist()\n",
    "\n",
    "threads = np.arange(1, input_threads+1).tolist()\n",
    "#threads = np.power(2, threads).tolist()\n",
    "\n",
    "grid = np.zeros((len(threads),len(nrhs)))\n",
    "grid[0,0]=1\n",
    "\n",
    "print(threads, nrhs)"
   ]
  },
  {
   "cell_type": "code",
   "execution_count": null,
   "metadata": {},
   "outputs": [],
   "source": [
    "#ref = 163.2 #circuit_2\n",
    "ref = 12271.6 #scircuit\n",
    "\n",
    "for index, row in data.iterrows():\n",
    "    threads_i = row['threads']\n",
    "    nrhs_i = row['nrhs']\n",
    "    time_factor_i = row['time1']\n",
    "    time_solve_i = row['time2']\n",
    "    \n",
    "    index_threads = threads.index(threads_i)\n",
    "    index_nrhs = nrhs.index(nrhs_i)\n",
    "    \n",
    "    #print(index_threads, index_nrhs)\n",
    "\n",
    "    time_total_i = time_factor_i + time_solve_i\n",
    "\n",
    "    time_per_solve = time_solve_i / (threads_i * nrhs_i)\n",
    "    #time_per_solve = time_total_i / (threads_i * nrhs_i)\n",
    "    # cost_per_solve = time_per_solve * threads_i\n",
    "    \n",
    "    grid[index_threads, index_nrhs] = ref / (time_per_solve)\n",
    "    #grid[index_threads, index_nrhs] = (time_per_solve)\n",
    "    #grid[index_threads, index_nrhs] =  ref*ref/(cost_per_solve*time_per_solve)\n",
    "\n",
    "\n",
    "print(grid)"
   ]
  },
  {
   "cell_type": "code",
   "execution_count": null,
   "metadata": {},
   "outputs": [],
   "source": [
    "list(map(str, nrhs))"
   ]
  },
  {
   "cell_type": "code",
   "execution_count": null,
   "metadata": {},
   "outputs": [],
   "source": [
    "plt.style.use(['ipynb','cmap-viridis'])\n",
    "fig = plt.figure(figsize=(5,7), dpi=150)\n",
    "ax = fig.add_subplot(111)\n",
    "im = ax.imshow(grid,interpolation='nearest')\n",
    "ax.set_xticks(np.arange(0,len(nrhs)))\n",
    "ax.set_xticklabels(nrhs)\n",
    "\n",
    "ax.set_yticks(np.arange(0,len(threads)))\n",
    "ax.set_yticklabels(threads)\n",
    "\n",
    "ax.set_xlabel('nrhs')\n",
    "ax.set_ylabel('Threads')\n",
    "\n",
    "#fig.colorbar(im)\n",
    "ax.invert_yaxis()\n",
    "for (j,i),label in np.ndenumerate(grid):\n",
    "    ax.text(i,j,round(label,1),ha='center',va='center')\n",
    "\n"
   ]
  },
  {
   "cell_type": "code",
   "execution_count": null,
   "metadata": {},
   "outputs": [],
   "source": [
    "fig.savefig('scalable_grid.svg', format='svg')"
   ]
  }
 ],
 "metadata": {
  "interpreter": {
   "hash": "31f2aee4e71d21fbe5cf8b01ff0e069b9275f58929596ceb00d14d90e3e16cd6"
  },
  "kernelspec": {
   "display_name": "Python 3.8.10 64-bit",
   "language": "python",
   "name": "python3"
  },
  "language_info": {
   "codemirror_mode": {
    "name": "ipython",
    "version": 3
   },
   "file_extension": ".py",
   "mimetype": "text/x-python",
   "name": "python",
   "nbconvert_exporter": "python",
   "pygments_lexer": "ipython3",
   "version": "3.10.4"
  },
  "orig_nbformat": 4
 },
 "nbformat": 4,
 "nbformat_minor": 2
}
