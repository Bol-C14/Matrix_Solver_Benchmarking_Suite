{
 "cells": [
  {
   "cell_type": "code",
   "execution_count": 1,
   "metadata": {},
   "outputs": [],
   "source": [
    "import os\n",
    "import pandas as pd\n",
    "import subprocess"
   ]
  },
  {
   "cell_type": "code",
   "execution_count": 2,
   "metadata": {},
   "outputs": [],
   "source": [
    "databaseFolder = './'\n",
    "dirs = os.listdir(databaseFolder)"
   ]
  },
  {
   "cell_type": "code",
   "execution_count": 4,
   "metadata": {},
   "outputs": [],
   "source": [
    "df = pd.DataFrame(dirs, columns=[\"index\"])\n",
    "df['threads']=0\n",
    "df['nrhs']=0\n",
    "df['time1']=0\n",
    "df['time1']= df['time1'].astype(float)\n"
   ]
  },
  {
   "cell_type": "code",
   "execution_count": 5,
   "metadata": {},
   "outputs": [
    {
     "name": "stdout",
     "output_type": "stream",
     "text": [
      "127218.0\n"
     ]
    }
   ],
   "source": [
    "engine = '../klu_threaded.o'\n",
    "\n",
    "timeout = 20\n",
    "\n",
    "#vecbPath = f\"../database/{database.at[0, 'name']}/vecb.mtx\"\n",
    "\n",
    "def runSingle(engine, threads, nrhs):\n",
    "    try:\n",
    "        #command = [engine, pathMtx, vecbPath, str(repLoops)]\n",
    "        command = [engine, str(threads), str(nrhs)]\n",
    "        #print(command)\n",
    "        p = subprocess.run(command, stdout=subprocess.PIPE, stderr=subprocess.PIPE, timeout=timeout)\n",
    "        #print(p.stdout.decode('utf-8'))\n",
    "        if p.returncode == 0:\n",
    "            outLines = (p.stdout).decode('utf-8').split('\\n')\n",
    "            #print(outLines)\n",
    "            time1 = float(outLines[-2].split(':')[1])\n",
    "            \n",
    "        else:\n",
    "            print(p.stderr.decode('utf-8'))\n",
    "            time1 = -1\n",
    "            \n",
    "    except subprocess.TimeoutExpired:\n",
    "        time1 = -2\n",
    "\n",
    "    return time1\n",
    "\n",
    "\n",
    "t1 = runSingle(engine, 1, 1)\n",
    "print(t1)  "
   ]
  },
  {
   "cell_type": "code",
   "execution_count": 6,
   "metadata": {},
   "outputs": [
    {
     "name": "stdout",
     "output_type": "stream",
     "text": [
      "1 1 25564.8\n",
      "1 2 30522.7\n",
      "1 4 32325.0\n"
     ]
    }
   ],
   "source": [
    "loc = 0\n",
    "\n",
    "for threads in range(1,2):\n",
    "    for p in range(0,3):\n",
    "        nrhs = 2**p\n",
    "        t1 = runSingle(engine, threads, nrhs)\n",
    "        df.loc[loc,'index'] = loc\n",
    "        df.loc[loc, 'threads'] = threads\n",
    "        df.loc[loc, 'nrhs'] = nrhs\n",
    "        df.loc[loc, 'time1'] = t1\n",
    "        print(threads, nrhs, t1)\n",
    "        loc += 1\n",
    "        "
   ]
  },
  {
   "cell_type": "code",
   "execution_count": 7,
   "metadata": {},
   "outputs": [
    {
     "name": "stdout",
     "output_type": "stream",
     "text": [
      "   threads  nrhs    time1\n",
      "0      1.0   1.0  25564.8\n",
      "1      1.0   2.0  30522.7\n",
      "2      1.0   4.0  32325.0\n"
     ]
    }
   ],
   "source": [
    "print(df)"
   ]
  },
  {
   "cell_type": "code",
   "execution_count": 8,
   "metadata": {},
   "outputs": [],
   "source": [
    "df.to_csv('results.csv')"
   ]
  }
 ],
 "metadata": {
  "interpreter": {
   "hash": "916dbcbb3f70747c44a77c7bcd40155683ae19c65e1c03b4aa3499c5328201f1"
  },
  "kernelspec": {
   "display_name": "Python 3.8.10 64-bit",
   "language": "python",
   "name": "python3"
  },
  "language_info": {
   "codemirror_mode": {
    "name": "ipython",
    "version": 3
   },
   "file_extension": ".py",
   "mimetype": "text/x-python",
   "name": "python",
   "nbconvert_exporter": "python",
   "pygments_lexer": "ipython3",
   "version": "3.8.10"
  },
  "orig_nbformat": 4
 },
 "nbformat": 4,
 "nbformat_minor": 2
}
