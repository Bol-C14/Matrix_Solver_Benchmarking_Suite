{
 "cells": [
  {
   "cell_type": "code",
   "execution_count": null,
   "metadata": {},
   "outputs": [],
   "source": [
    "import pandas as pd\n",
    "import numpy as np\n",
    "import matplotlib.pyplot as plt"
   ]
  },
  {
   "cell_type": "code",
   "execution_count": null,
   "metadata": {},
   "outputs": [],
   "source": [
    "#data = pd.read_csv('./thread_data_circuit2_thr6.csv')\n",
    "#data = pd.read_csv('./thread_data_scircuit_thr6.csv')\n",
    "data = pd.read_csv('./thread_data_scircuit_thr10.csv')\n",
    "\n",
    "print(data.head())"
   ]
  },
  {
   "cell_type": "code",
   "execution_count": null,
   "metadata": {},
   "outputs": [],
   "source": [
    "chartData = []\n",
    "\n",
    "for i in range(0, np.max(data['threadIndex'])+1):\n",
    "    df = data[data['threadIndex'] == i]\n",
    "    print(np.mean(df['beginTime']), np.std(df['beginTime']))\n",
    "    chartData.append([i+1, np.mean(df['beginTime']), np.std(df['beginTime']), np.mean(df['endTime']), np.std(df['endTime']), np.mean(df['endTime'] - df['beginTime'])])\n",
    "\n",
    "print(chartData)"
   ]
  },
  {
   "cell_type": "code",
   "execution_count": null,
   "metadata": {},
   "outputs": [],
   "source": [
    "plotData = list(map(list, zip(*chartData)))\n",
    "print(plotData)"
   ]
  },
  {
   "cell_type": "code",
   "execution_count": null,
   "metadata": {},
   "outputs": [],
   "source": [
    "plt.style.use(['ipynb','colors5'])\n",
    "fig = plt.figure(figsize=(4,4), dpi=150)\n",
    "ax = fig.add_subplot(111)\n",
    "ax.invert_yaxis()\n",
    "\n",
    "bar1 = ax.barh(plotData[0], width=plotData[5], left=plotData[1])\n",
    "err1 = ax.errorbar(plotData[1], plotData[0], xerr=plotData[2], fmt='none', ecolor='black', capsize=5)\n",
    "err2 =ax.errorbar(plotData[3], plotData[0], xerr=plotData[4], fmt='none', ecolor='black', capsize=5)\n",
    "#ax.bar_label(bar1, chartData)\n",
    "\n",
    "ax.set_yticklabels(['0','2', '4', '6', '8', '10'])\n",
    "\n",
    "ax.set_xlabel('Time (μs)')\n",
    "ax.set_ylabel('Thread Index')\n",
    "\n",
    "fig.savefig('thread_data.svg')"
   ]
  }
 ],
 "metadata": {
  "interpreter": {
   "hash": "31f2aee4e71d21fbe5cf8b01ff0e069b9275f58929596ceb00d14d90e3e16cd6"
  },
  "kernelspec": {
   "display_name": "Python 3.8.10 64-bit",
   "language": "python",
   "name": "python3"
  },
  "language_info": {
   "codemirror_mode": {
    "name": "ipython",
    "version": 3
   },
   "file_extension": ".py",
   "mimetype": "text/x-python",
   "name": "python",
   "nbconvert_exporter": "python",
   "pygments_lexer": "ipython3",
   "version": "3.10.4"
  },
  "orig_nbformat": 4
 },
 "nbformat": 4,
 "nbformat_minor": 2
}
